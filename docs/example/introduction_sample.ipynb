{
 "cells": [
  {
   "cell_type": "markdown",
   "metadata": {},
   "source": [
    "# Import Required Libraries\n",
    "Import the necessary libraries, such as requests for making HTTP requests and json for handling JSON data."
   ]
  },
  {
   "cell_type": "code",
   "execution_count": null,
   "metadata": {},
   "outputs": [],
   "source": [
    "# Import Required Libraries\n",
    "import requests\n",
    "import json\n",
    "import pandas as pd\n",
    "import numpy as np\n",
    "import folium\n",
    "import matplotlib.cm as cm\n",
    "import matplotlib.colors as colors\n",
    "from autobahn import get_warnings, TrafficWarning, map_plot"
   ]
  },
  {
   "cell_type": "markdown",
   "metadata": {},
   "source": [
    "# Goal:\n",
    "\n",
    "ich fahre von xxx nach Kassel und halte es maximal 1 h ohne WC aus. Schaffe ich das bei der aktuellen Verkehrslage?"
   ]
  },
  {
   "cell_type": "markdown",
   "metadata": {},
   "source": [
    "# Fetch some information about Germany\n",
    "\n",
    "- https://bund.dev/apis\n",
    " - pip install deutschland\n",
    "- Dashboard Deutschland: https://dashboard.deutschland.api.bund.dev/\n",
    "- Autbobahnen: https://autobahn.api.bund.dev/\n",
    "- Deutschlandatlas: https://github.com/bundesAPI/deutschlandatlas-api\n",
    "\n"
   ]
  },
  {
   "cell_type": "code",
   "execution_count": null,
   "metadata": {},
   "outputs": [],
   "source": [
    "url_bab = \"https://verkehr.autobahn.de/o/autobahn\"\n",
    "\n",
    "# Get Roadworks\n",
    "def roadworks(autobahn_id):\n",
    "    url = f\"{url_bab}/{autobahn_id}/services/roadworks\"\n",
    "    response = requests.get(url)\n",
    "    return response.json()[\"roadworks\"]\n",
    "\n",
    "# Get parking_lorries\n",
    "def parking_lorries(autobahn_id):\n",
    "    url = f\"{url_bab}/{autobahn_id}/services/parking_lorry\"\n",
    "    response = requests.get(url)\n",
    "    return response.json()[\"parking_lorry\"]\n",
    "\n",
    "autobahn_id = \"A7\"\n",
    "json_roadwork = roadworks(autobahn_id)\n",
    "json_data_parking = parking_lorries(autobahn_id)\n",
    "json_data_warnings = get_warnings(autobahn_id)\n",
    "# print(pd.DataFrame(json_data)\n"
   ]
  },
  {
   "cell_type": "markdown",
   "metadata": {},
   "source": [
    "## now I create a class with a collection of "
   ]
  },
  {
   "cell_type": "code",
   "execution_count": null,
   "metadata": {},
   "outputs": [],
   "source": [
    "traffic_events = [TrafficWarning(data) for data in json_data_warnings]"
   ]
  },
  {
   "cell_type": "code",
   "execution_count": null,
   "metadata": {},
   "outputs": [],
   "source": [
    "# plot the traffic\n",
    "plot_data = [data.geo_df.assign(aveg_speed=float(data.averageSpeed)) for data in traffic_events if data.averageSpeed is not None]\n",
    "\n",
    "map_plot(plot_data, on='aveg_speed')"
   ]
  }
 ],
 "metadata": {
  "kernelspec": {
   "display_name": "Python 3",
   "language": "python",
   "name": "python3"
  },
  "language_info": {
   "codemirror_mode": {
    "name": "ipython",
    "version": 3
   },
   "file_extension": ".py",
   "mimetype": "text/x-python",
   "name": "python",
   "nbconvert_exporter": "python",
   "pygments_lexer": "ipython3",
   "version": "3.12.7"
  }
 },
 "nbformat": 4,
 "nbformat_minor": 2
}
