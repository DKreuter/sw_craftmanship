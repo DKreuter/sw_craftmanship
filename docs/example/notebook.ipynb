{
 "cells": [
  {
   "cell_type": "code",
   "execution_count": 4,
   "id": "get-warnings",
   "metadata": {},
   "outputs": [],
   "source": [
    "import requests\n",
    "import pandas as pd\n",
    "import folium\n",
    "from geopy.distance import geodesic\n",
    "from autobahn.autobahn import get_warnings\n",
    "\n",
    "url_bab = \"https://verkehr.autobahn.de/o/autobahn\"\n",
    "\n",
    "warnings_a7 = get_warnings('A7')\n",
    "\n",
    "# warnings_df"
   ]
  },
  {
   "cell_type": "code",
   "execution_count": 13,
   "id": "get-route",
   "metadata": {},
   "outputs": [],
   "source": [
    "osrm_url = \"http://router.project-osrm.org/route/v1/driving/\"\n",
    "start = \"9.446996,54.793743\"  # Flensburg\n",
    "end = \"9.479746,51.312711\"  # Kassel\n",
    "route_url = f\"{osrm_url}{start};{end}?overview=full&geometries=geojson\"\n",
    "route_response = requests.get(route_url)\n",
    "route_data = route_response.json()\n",
    "route_coords = route_data['routes'][0]['geometry']['coordinates']\n",
    "route_df = pd.DataFrame(route_coords, columns=['long', 'lat'])\n",
    "# route_df"
   ]
  },
  {
   "cell_type": "markdown",
   "id": "bca8e25a",
   "metadata": {},
   "source": [
    "### OSM Data"
   ]
  },
  {
   "cell_type": "code",
   "execution_count": 23,
   "id": "619eadfa",
   "metadata": {},
   "outputs": [
    {
     "name": "stdout",
     "output_type": "stream",
     "text": [
      "distance: 469.81 km\n",
      "duration: 4.92 h\n"
     ]
    }
   ],
   "source": [
    "print(f\"distance: {route_data['routes'][0]['distance'] / 1000:.2f} km\")\n",
    "print(f\"duration: {route_data['routes'][0]['duration'] / 3600:.2f} h\")"
   ]
  },
  {
   "cell_type": "code",
   "execution_count": 3,
   "id": "driving-model",
   "metadata": {},
   "outputs": [],
   "source": [
    "class Car:\n",
    "    def __init__(self, start_location):\n",
    "        self.location = start_location\n",
    "        self.route = []\n",
    "        self.distance_traveled = 0.0\n",
    "\n",
    "    def drive_to(self, destination):\n",
    "        self.route.append(destination)\n",
    "        self.distance_traveled += geodesic(self.location, destination).kilometers\n",
    "        self.location = destination\n",
    "\n",
    "car = Car(start_location=(54.793743, 9.446996))  # Flensburg\n",
    "for coord in route_coords:\n",
    "    car.drive_to((coord[1], coord[0]))\n",
    "\n",
    "car.distance_traveled"
   ]
  },
  {
   "cell_type": "code",
   "execution_count": 4,
   "id": "plot-route",
   "metadata": {},
   "outputs": [],
   "source": [
    "m = folium.Map(location=[route_df['lat'].mean(), route_df['long'].mean()], zoom_start=6)\n",
    "folium.PolyLine(route_coords, color='blue', weight=2.5, opacity=1).add_to(m)\n",
    "m"
   ]
  }
 ],
 "metadata": {
  "kernelspec": {
   "display_name": "Python 3",
   "language": "python",
   "name": "python3"
  },
  "language_info": {
   "codemirror_mode": {
    "name": "ipython",
    "version": 3
   },
   "file_extension": ".py",
   "mimetype": "text/x-python",
   "name": "python",
   "nbconvert_exporter": "python",
   "pygments_lexer": "ipython3",
   "version": "3.10.15"
  }
 },
 "nbformat": 4,
 "nbformat_minor": 5
}
