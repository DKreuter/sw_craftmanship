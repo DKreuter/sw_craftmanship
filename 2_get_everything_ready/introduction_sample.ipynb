{
 "cells": [
  {
   "cell_type": "markdown",
   "metadata": {},
   "source": [
    "# Import Required Libraries\n",
    "Import the necessary libraries, such as requests for making HTTP requests and json for handling JSON data."
   ]
  },
  {
   "cell_type": "code",
   "execution_count": null,
   "metadata": {},
   "outputs": [],
   "source": [
    "# Import Required Libraries\n",
    "import requests\n",
    "import json\n",
    "import pandas as pd\n",
    "import numpy as np\n",
    "import folium\n",
    "import matplotlib.cm as cm\n",
    "import matplotlib.colors as colors"
   ]
  },
  {
   "cell_type": "markdown",
   "metadata": {},
   "source": [
    "# Goal:\n",
    "\n",
    "ich fahre von xxx nach Kassel und halte es maximal 1 h ohne WC aus. Schaffe ich das bei der aktuellen Verkehrslage?"
   ]
  },
  {
   "cell_type": "markdown",
   "metadata": {},
   "source": [
    "# Fetch some information about Germany\n",
    "\n",
    "- https://bund.dev/apis\n",
    " - pip install deutschland\n",
    "- Dashboard Deutschland: https://dashboard.deutschland.api.bund.dev/\n",
    "- Autbobahnen: https://autobahn.api.bund.dev/\n",
    "- Deutschlandatlas: https://github.com/bundesAPI/deutschlandatlas-api\n",
    "\n"
   ]
  },
  {
   "cell_type": "code",
   "execution_count": null,
   "metadata": {},
   "outputs": [],
   "source": [
    "url_bab = \"https://verkehr.autobahn.de/o/autobahn\"\n",
    "\n",
    "# Get Roadworks\n",
    "def roadworks(autobahn_id):\n",
    "    url = f\"{url_bab}/{autobahn_id}/services/roadworks\"\n",
    "    response = requests.get(url)\n",
    "    return response.json()[\"roadworks\"]\n",
    "\n",
    "# Get parking_lorries\n",
    "def parking_lorries(autobahn_id):\n",
    "    url = f\"{url_bab}/{autobahn_id}/services/parking_lorry\"\n",
    "    response = requests.get(url)\n",
    "    return response.json()[\"parking_lorry\"]\n",
    "\n",
    "def get_warnings(autobahn_id):\n",
    "    url = f\"{url_bab}/{autobahn_id}/services/warning\"\n",
    "    response = requests.get(url)\n",
    "    return response.json()[\"warning\"]\n",
    "\n",
    "autobahn_id = \"A7\"\n",
    "json_roadwork = roadworks(autobahn_id)\n",
    "json_data_parking = parking_lorries(autobahn_id)\n",
    "json_data_warnings = get_warnings(autobahn_id)\n",
    "# print(pd.DataFrame(json_data)\n"
   ]
  },
  {
   "cell_type": "markdown",
   "metadata": {},
   "source": [
    "## now I create a class with a collection of "
   ]
  },
  {
   "cell_type": "code",
   "execution_count": null,
   "metadata": {},
   "outputs": [],
   "source": [
    "class TrafficWarning:\n",
    "    def __init__(self, data):\n",
    "        \"\"\"\n",
    "        Initialize the TrafficEvent class with data from the dictionary.\n",
    "\n",
    "        :param data: dict, containing traffic event information\n",
    "        \"\"\"\n",
    "        self.isBlocked = data.get('isBlocked')\n",
    "        self.display_type = data.get('display_type')\n",
    "        self.subtitle = data.get('subtitle')\n",
    "        self.title = data.get('title')\n",
    "        self.startTimestamp = data.get('startTimestamp')\n",
    "        self.delayTimeValue = data.get('delayTimeValue')\n",
    "        self.abnormalTrafficType = data.get('abnormalTrafficType')\n",
    "        self.averageSpeed = data.get('averageSpeed')\n",
    "        self.description = data.get('description')\n",
    "        self.routeRecommendation = data.get('routeRecommendation')\n",
    "        self.lorryParkingFeatureIcons = data.get('lorryParkingFeatureIcons')\n",
    "        self.geometry = data.get('geometry')\n",
    "        self.geo_df = self.create_geo_dataframe(self.geometry['coordinates'])\n",
    "\n",
    "    def create_geo_dataframe(self, coordinates):\n",
    "        df = pd.DataFrame(\n",
    "            {'lat': [coord[0] for coord in coordinates],\n",
    "             'long': [coord[1] for coord in coordinates]}\n",
    "            )\n",
    "        \n",
    "        return df\n",
    "\n",
    "\n",
    "\n",
    "traffic_events = [TrafficWarning(data) for data in json_data_warnings]"
   ]
  },
  {
   "cell_type": "code",
   "execution_count": null,
   "metadata": {},
   "outputs": [],
   "source": [
    "# plot the traffic\n",
    "def map_plot(plotlist, on='aveg_speed'):\n",
    "    on_stats = pd.concat(df[on] for df in plotlist).describe()\n",
    "    colormap = folium.LinearColormap(['green', 'yellow', 'red'], vmin=on_stats[\"min\"], vmax=on_stats[\"max\"])\n",
    "\n",
    "    m = folium.Map(pd.concat([data[['long', 'lat']] for data in plotlist]).mean(), zoom_start=10)\n",
    "    for df in plotlist:\n",
    "        points_ = [(point[0], point[1]) for point in df[['long', 'lat']].to_numpy()]\n",
    "        folium.features.ColorLine(\n",
    "            points_,\n",
    "            colors=[data for data in df[on]],\n",
    "            colormap = colormap,\n",
    "            weight=5,\n",
    "            smooth_factor=3,\n",
    "        ).add_to(m)\n",
    "    return m\n",
    "\n",
    "plot_data = [data.geo_df.assign(aveg_speed=float(data.averageSpeed)) for data in traffic_events if data.averageSpeed is not None]\n",
    "\n",
    "map_plot(plot_data, on='aveg_speed')"
   ]
  }
 ],
 "metadata": {
  "kernelspec": {
   "display_name": "Python 3",
   "language": "python",
   "name": "python3"
  },
  "language_info": {
   "codemirror_mode": {
    "name": "ipython",
    "version": 3
   },
   "file_extension": ".py",
   "mimetype": "text/x-python",
   "name": "python",
   "nbconvert_exporter": "python",
   "pygments_lexer": "ipython3",
   "version": "3.12.7"
  }
 },
 "nbformat": 4,
 "nbformat_minor": 2
}
